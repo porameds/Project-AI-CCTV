{
 "cells": [
  {
   "cell_type": "code",
   "execution_count": 1,
   "metadata": {},
   "outputs": [
    {
     "name": "stdout",
     "output_type": "stream",
     "text": [
      "Ultralytics 8.3.161 🚀 Python-3.10.12 torch-2.7.1+cu126 CPU (Intel Core(TM) i7-8700 3.20GHz)\n",
      "YOLO11n summary (fused): 100 layers, 2,582,347 parameters, 0 gradients, 6.3 GFLOPs\n",
      "\n",
      "\u001b[34m\u001b[1mPyTorch:\u001b[0m starting from '/home/smart/Project_ai_barcode/model/Ai_barcode_model_2/weights/best.pt' with input shape (1, 3, 640, 640) BCHW and output shape(s) (1, 5, 8400) (5.2 MB)\n",
      "\n",
      "\u001b[34m\u001b[1mONNX:\u001b[0m starting export with onnx 1.17.0 opset 19...\n",
      "\u001b[34m\u001b[1mONNX:\u001b[0m slimming with onnxslim 0.1.58...\n",
      "\u001b[34m\u001b[1mONNX:\u001b[0m export success ✅ 4.1s, saved as '/home/smart/Project_ai_barcode/model/Ai_barcode_model_2/weights/best.onnx' (10.1 MB)\n",
      "\n",
      "Export complete (4.6s)\n",
      "Results saved to \u001b[1m/home/smart/Project_ai_barcode/model/Ai_barcode_model_2/weights\u001b[0m\n",
      "Predict:         yolo predict task=detect model=/home/smart/Project_ai_barcode/model/Ai_barcode_model_2/weights/best.onnx imgsz=640  \n",
      "Validate:        yolo val task=detect model=/home/smart/Project_ai_barcode/model/Ai_barcode_model_2/weights/best.onnx imgsz=640 data=/home/smart/Project_ai_barcode/yolo11_barcode_2/data.yaml  \n",
      "Visualize:       https://netron.app\n"
     ]
    },
    {
     "data": {
      "text/plain": [
       "'/home/smart/Project_ai_barcode/model/Ai_barcode_model_2/weights/best.onnx'"
      ]
     },
     "execution_count": 1,
     "metadata": {},
     "output_type": "execute_result"
    }
   ],
   "source": [
    "from ultralytics import YOLO\n",
    "model = YOLO(r'/home/smart/Project_ai_barcode/model/Ai_barcode_model_2/weights/best.pt')\n",
    "\n",
    "model.export(format=\"onnx\")\n"
   ]
  }
 ],
 "metadata": {
  "kernelspec": {
   "display_name": "Python 3",
   "language": "python",
   "name": "python3"
  },
  "language_info": {
   "codemirror_mode": {
    "name": "ipython",
    "version": 3
   },
   "file_extension": ".py",
   "mimetype": "text/x-python",
   "name": "python",
   "nbconvert_exporter": "python",
   "pygments_lexer": "ipython3",
   "version": "3.10.12"
  }
 },
 "nbformat": 4,
 "nbformat_minor": 2
}
